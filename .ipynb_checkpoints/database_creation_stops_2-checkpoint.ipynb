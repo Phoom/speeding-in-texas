{
 "cells": [
  {
   "cell_type": "code",
   "execution_count": 1,
   "metadata": {
    "collapsed": true
   },
   "outputs": [],
   "source": [
    "# Import initial dependencies\n",
    "import os\n",
    "import pandas as pd\n",
    "import numpy as np"
   ]
  },
  {
   "cell_type": "code",
   "execution_count": 2,
   "metadata": {},
   "outputs": [],
   "source": [
    "# Read CSVs into dataframes\n",
    "stops10 = pd.read_csv(\"stops_2010.csv\", encoding=\"utf-8\", low_memory=False)\n",
    "stops11 = pd.read_csv(\"stops_2011.csv\", encoding=\"utf-8\", low_memory=False)\n",
    "stops12 = pd.read_csv(\"stops_2012.csv\", encoding=\"utf-8\", low_memory=False)\n",
    "stops13 = pd.read_csv(\"stops_2013.csv\", encoding=\"utf-8\", low_memory=False)\n",
    "stops14 = pd.read_csv(\"stops_2014.csv\", encoding=\"utf-8\", low_memory=False)\n",
    "stops15 = pd.read_csv(\"stops_2015.csv\", encoding=\"utf-8\", low_memory=False)"
   ]
  },
  {
   "cell_type": "code",
   "execution_count": 3,
   "metadata": {
    "collapsed": true,
    "scrolled": true
   },
   "outputs": [],
   "source": [
    "# Cut down to desired columns\n",
    "stops10 = stops10[['stop_date', 'county_name', 'driver_gender',\n",
    "        'driver_race', 'search_conducted', \n",
    "        'contraband_found', 'stop_outcome', 'officer_id']]\n",
    "stops11 = stops11[['stop_date', 'county_name', 'driver_gender',\n",
    "        'driver_race', 'search_conducted', \n",
    "        'contraband_found', 'stop_outcome', 'officer_id']] \n",
    "stops12 = stops12[['stop_date', 'county_name', 'driver_gender',\n",
    "        'driver_race', 'search_conducted', \n",
    "        'contraband_found', 'stop_outcome', 'officer_id']] \n",
    "stops13 = stops13[['stop_date', 'county_name', 'driver_gender',\n",
    "        'driver_race', 'search_conducted', \n",
    "        'contraband_found', 'stop_outcome', 'officer_id']] \n",
    "stops14 = stops14[['stop_date', 'county_name', 'driver_gender',\n",
    "        'driver_race', 'search_conducted', \n",
    "        'contraband_found', 'stop_outcome', 'officer_id']] \n",
    "stops15 = stops15[['stop_date', 'county_name', 'driver_gender',\n",
    "        'driver_race', 'search_conducted', \n",
    "        'contraband_found', 'stop_outcome', 'officer_id']] "
   ]
  },
  {
   "cell_type": "code",
   "execution_count": 4,
   "metadata": {
    "collapsed": true
   },
   "outputs": [],
   "source": [
    "# Clean column names\n",
    "stops10.columns = ['date', 'county', 'gender', 'race',\n",
    "       'searched', 'contraband', 'outcome', 'officer_id']\n",
    "stops11.columns = ['date', 'county', 'gender', 'race',\n",
    "       'searched', 'contraband', 'outcome', 'officer_id']\n",
    "stops12.columns = ['date', 'county', 'gender', 'race',\n",
    "       'searched', 'contraband', 'outcome', 'officer_id']\n",
    "stops13.columns = ['date', 'county', 'gender', 'race',\n",
    "       'searched', 'contraband', 'outcome', 'officer_id']\n",
    "stops14.columns = ['date', 'county', 'gender', 'race',\n",
    "       'searched', 'contraband', 'outcome', 'officer_id']\n",
    "stops15.columns = ['date', 'county', 'gender', 'race',\n",
    "       'searched', 'contraband', 'outcome', 'officer_id']"
   ]
  },
  {
   "cell_type": "code",
   "execution_count": 5,
   "metadata": {
    "collapsed": true
   },
   "outputs": [],
   "source": [
    "# Group by date for total stops per day of year\n",
    "by_date10 = stops10.groupby(\"date\").count()\n",
    "by_date10 = by_date10[[\"county\"]]\n",
    "by_date10.columns = [\"stops_2010\"]\n",
    "\n",
    "# Reset index and remove year to leave just month/day\n",
    "by_date10.reset_index(inplace=True) \n",
    "by_date10[\"date\"] = by_date10[\"date\"].map(lambda x: str(x)[5:])\n",
    "\n",
    "# Group other dfs by date and reset index so they can be joined\n",
    "by_date11 = stops11.groupby(\"date\").count()\n",
    "by_date11.reset_index(inplace=True)\n",
    "by_date11 = by_date11[[\"county\"]]\n",
    "by_date11.columns = [\"stops_2011\"]\n",
    "\n",
    "by_date12 = stops12.groupby(\"date\").count()\n",
    "by_date12.reset_index(inplace=True)\n",
    "by_date12 = by_date12[[\"county\"]]\n",
    "by_date12.columns = [\"stops_2012\"]\n",
    "\n",
    "by_date13 = stops13.groupby(\"date\").count()\n",
    "by_date13.reset_index(inplace=True)\n",
    "by_date13 = by_date13[[\"county\"]]\n",
    "by_date13.columns = [\"stops_2013\"]\n",
    "\n",
    "by_date14 = stops14.groupby(\"date\").count()\n",
    "by_date14.reset_index(inplace=True)\n",
    "by_date14 = by_date14[[\"county\"]]\n",
    "by_date14.columns = [\"stops_2014\"]\n",
    "\n",
    "by_date15 = stops15.groupby(\"date\").count()\n",
    "by_date15.reset_index(inplace=True)\n",
    "by_date15 = by_date15[[\"county\"]]\n",
    "by_date15.columns = [\"stops_2015\"]"
   ]
  },
  {
   "cell_type": "code",
   "execution_count": 6,
   "metadata": {},
   "outputs": [
    {
     "data": {
      "text/html": [
       "<div>\n",
       "<style scoped>\n",
       "    .dataframe tbody tr th:only-of-type {\n",
       "        vertical-align: middle;\n",
       "    }\n",
       "\n",
       "    .dataframe tbody tr th {\n",
       "        vertical-align: top;\n",
       "    }\n",
       "\n",
       "    .dataframe thead th {\n",
       "        text-align: right;\n",
       "    }\n",
       "</style>\n",
       "<table border=\"1\" class=\"dataframe\">\n",
       "  <thead>\n",
       "    <tr style=\"text-align: right;\">\n",
       "      <th></th>\n",
       "      <th>date</th>\n",
       "      <th>stops_2010</th>\n",
       "      <th>stops_2011</th>\n",
       "      <th>stops_2012</th>\n",
       "      <th>stops_2013</th>\n",
       "      <th>stops_2014</th>\n",
       "      <th>stops_2015</th>\n",
       "    </tr>\n",
       "  </thead>\n",
       "  <tbody>\n",
       "    <tr>\n",
       "      <th>0</th>\n",
       "      <td>01-01</td>\n",
       "      <td>6869</td>\n",
       "      <td>7815</td>\n",
       "      <td>5768</td>\n",
       "      <td>4389</td>\n",
       "      <td>4713</td>\n",
       "      <td>1212</td>\n",
       "    </tr>\n",
       "    <tr>\n",
       "      <th>1</th>\n",
       "      <td>01-02</td>\n",
       "      <td>11000</td>\n",
       "      <td>11390</td>\n",
       "      <td>3350</td>\n",
       "      <td>2674</td>\n",
       "      <td>1956</td>\n",
       "      <td>857</td>\n",
       "    </tr>\n",
       "    <tr>\n",
       "      <th>2</th>\n",
       "      <td>01-03</td>\n",
       "      <td>9707</td>\n",
       "      <td>3336</td>\n",
       "      <td>3059</td>\n",
       "      <td>3378</td>\n",
       "      <td>2709</td>\n",
       "      <td>2694</td>\n",
       "    </tr>\n",
       "    <tr>\n",
       "      <th>3</th>\n",
       "      <td>01-04</td>\n",
       "      <td>2820</td>\n",
       "      <td>3157</td>\n",
       "      <td>3421</td>\n",
       "      <td>2905</td>\n",
       "      <td>3572</td>\n",
       "      <td>3265</td>\n",
       "    </tr>\n",
       "    <tr>\n",
       "      <th>4</th>\n",
       "      <td>01-05</td>\n",
       "      <td>3604</td>\n",
       "      <td>3884</td>\n",
       "      <td>3530</td>\n",
       "      <td>3985</td>\n",
       "      <td>2408</td>\n",
       "      <td>2909</td>\n",
       "    </tr>\n",
       "  </tbody>\n",
       "</table>\n",
       "</div>"
      ],
      "text/plain": [
       "    date  stops_2010  stops_2011  stops_2012  stops_2013  stops_2014  \\\n",
       "0  01-01        6869        7815        5768        4389        4713   \n",
       "1  01-02       11000       11390        3350        2674        1956   \n",
       "2  01-03        9707        3336        3059        3378        2709   \n",
       "3  01-04        2820        3157        3421        2905        3572   \n",
       "4  01-05        3604        3884        3530        3985        2408   \n",
       "\n",
       "   stops_2015  \n",
       "0        1212  \n",
       "1         857  \n",
       "2        2694  \n",
       "3        3265  \n",
       "4        2909  "
      ]
     },
     "execution_count": 6,
     "metadata": {},
     "output_type": "execute_result"
    }
   ],
   "source": [
    "# Add columns together for single dataframe\n",
    "by_date10[\"stops_2011\"] = by_date11[\"stops_2011\"]\n",
    "by_date10[\"stops_2012\"] = by_date12[\"stops_2012\"]\n",
    "by_date10[\"stops_2013\"] = by_date13[\"stops_2013\"]\n",
    "by_date10[\"stops_2014\"] = by_date14[\"stops_2014\"]\n",
    "by_date10[\"stops_2015\"] = by_date15[\"stops_2015\"]\n",
    "\n",
    "# Rename for clarity\n",
    "total_stops_by_year = by_date10\n",
    "total_stops_by_year.head()"
   ]
  },
  {
   "cell_type": "code",
   "execution_count": 7,
   "metadata": {
    "collapsed": true
   },
   "outputs": [],
   "source": [
    "# Same stuff with grouping by gender\n",
    "by_gender = stops10.groupby(\"gender\").count()\n",
    "by_gender = by_gender[[\"outcome\"]]\n",
    "by_gender.columns = [\"stops_2010\"]\n",
    "\n",
    "by_gender11 = stops11.groupby(\"gender\").count()\n",
    "by_gender11 = by_gender11[[\"outcome\"]]\n",
    "by_gender11.columns = [\"stops_2011\"]\n",
    "\n",
    "by_gender12 = stops12.groupby(\"gender\").count()\n",
    "by_gender12 = by_gender12[[\"outcome\"]]\n",
    "by_gender12.columns = [\"stops_2012\"]\n",
    "\n",
    "by_gender13 = stops13.groupby(\"gender\").count()\n",
    "by_gender13 = by_gender13[[\"outcome\"]]\n",
    "by_gender13.columns = [\"stops_2013\"]\n",
    "\n",
    "by_gender14 = stops14.groupby(\"gender\").count()\n",
    "by_gender14 = by_gender14[[\"outcome\"]]\n",
    "by_gender14.columns = [\"stops_2014\"]\n",
    "\n",
    "by_gender15 = stops15.groupby(\"gender\").count()\n",
    "by_gender15 = by_gender15[[\"outcome\"]]\n",
    "by_gender15.columns = [\"stops_2015\"]"
   ]
  },
  {
   "cell_type": "code",
   "execution_count": 8,
   "metadata": {},
   "outputs": [
    {
     "data": {
      "text/html": [
       "<div>\n",
       "<style scoped>\n",
       "    .dataframe tbody tr th:only-of-type {\n",
       "        vertical-align: middle;\n",
       "    }\n",
       "\n",
       "    .dataframe tbody tr th {\n",
       "        vertical-align: top;\n",
       "    }\n",
       "\n",
       "    .dataframe thead th {\n",
       "        text-align: right;\n",
       "    }\n",
       "</style>\n",
       "<table border=\"1\" class=\"dataframe\">\n",
       "  <thead>\n",
       "    <tr style=\"text-align: right;\">\n",
       "      <th></th>\n",
       "      <th>gender</th>\n",
       "      <th>stops_2010</th>\n",
       "      <th>stops_2011</th>\n",
       "      <th>stops_2012</th>\n",
       "      <th>stops_2013</th>\n",
       "      <th>stops_2014</th>\n",
       "      <th>stops_2015</th>\n",
       "    </tr>\n",
       "  </thead>\n",
       "  <tbody>\n",
       "    <tr>\n",
       "      <th>0</th>\n",
       "      <td>F</td>\n",
       "      <td>509012</td>\n",
       "      <td>516934</td>\n",
       "      <td>491313</td>\n",
       "      <td>437128</td>\n",
       "      <td>378355</td>\n",
       "      <td>358980</td>\n",
       "    </tr>\n",
       "    <tr>\n",
       "      <th>1</th>\n",
       "      <td>M</td>\n",
       "      <td>988067</td>\n",
       "      <td>984597</td>\n",
       "      <td>921544</td>\n",
       "      <td>815750</td>\n",
       "      <td>709916</td>\n",
       "      <td>661306</td>\n",
       "    </tr>\n",
       "  </tbody>\n",
       "</table>\n",
       "</div>"
      ],
      "text/plain": [
       "  gender  stops_2010  stops_2011  stops_2012  stops_2013  stops_2014  \\\n",
       "0      F      509012      516934      491313      437128      378355   \n",
       "1      M      988067      984597      921544      815750      709916   \n",
       "\n",
       "   stops_2015  \n",
       "0      358980  \n",
       "1      661306  "
      ]
     },
     "execution_count": 8,
     "metadata": {},
     "output_type": "execute_result"
    }
   ],
   "source": [
    "# Joining dataframes together\n",
    "by_gender[\"stops_2011\"] = by_gender11[\"stops_2011\"]\n",
    "by_gender[\"stops_2012\"] = by_gender12[\"stops_2012\"]\n",
    "by_gender[\"stops_2013\"] = by_gender13[\"stops_2013\"]\n",
    "by_gender[\"stops_2014\"] = by_gender14[\"stops_2014\"]\n",
    "by_gender[\"stops_2015\"] = by_gender15[\"stops_2015\"]\n",
    "\n",
    "# Reset index and rename for clarity\n",
    "by_gender.reset_index(inplace=True)\n",
    "by_gender.head()"
   ]
  },
  {
   "cell_type": "code",
   "execution_count": 9,
   "metadata": {},
   "outputs": [
    {
     "data": {
      "text/html": [
       "<div>\n",
       "<style scoped>\n",
       "    .dataframe tbody tr th:only-of-type {\n",
       "        vertical-align: middle;\n",
       "    }\n",
       "\n",
       "    .dataframe tbody tr th {\n",
       "        vertical-align: top;\n",
       "    }\n",
       "\n",
       "    .dataframe thead th {\n",
       "        text-align: right;\n",
       "    }\n",
       "</style>\n",
       "<table border=\"1\" class=\"dataframe\">\n",
       "  <thead>\n",
       "    <tr style=\"text-align: right;\">\n",
       "      <th></th>\n",
       "      <th>year</th>\n",
       "      <th>male</th>\n",
       "      <th>female</th>\n",
       "    </tr>\n",
       "  </thead>\n",
       "  <tbody>\n",
       "    <tr>\n",
       "      <th>1</th>\n",
       "      <td>2010</td>\n",
       "      <td>509012</td>\n",
       "      <td>988067</td>\n",
       "    </tr>\n",
       "    <tr>\n",
       "      <th>2</th>\n",
       "      <td>2011</td>\n",
       "      <td>516934</td>\n",
       "      <td>984597</td>\n",
       "    </tr>\n",
       "    <tr>\n",
       "      <th>3</th>\n",
       "      <td>2012</td>\n",
       "      <td>491313</td>\n",
       "      <td>921544</td>\n",
       "    </tr>\n",
       "    <tr>\n",
       "      <th>4</th>\n",
       "      <td>2013</td>\n",
       "      <td>437128</td>\n",
       "      <td>815750</td>\n",
       "    </tr>\n",
       "    <tr>\n",
       "      <th>5</th>\n",
       "      <td>2014</td>\n",
       "      <td>378355</td>\n",
       "      <td>709916</td>\n",
       "    </tr>\n",
       "    <tr>\n",
       "      <th>6</th>\n",
       "      <td>2015</td>\n",
       "      <td>358980</td>\n",
       "      <td>661306</td>\n",
       "    </tr>\n",
       "  </tbody>\n",
       "</table>\n",
       "</div>"
      ],
      "text/plain": [
       "   year    male  female\n",
       "1  2010  509012  988067\n",
       "2  2011  516934  984597\n",
       "3  2012  491313  921544\n",
       "4  2013  437128  815750\n",
       "5  2014  378355  709916\n",
       "6  2015  358980  661306"
      ]
     },
     "execution_count": 9,
     "metadata": {},
     "output_type": "execute_result"
    }
   ],
   "source": [
    "by_gender = by_gender.transpose()\n",
    "by_gender.reset_index(inplace=True)\n",
    "by_gender.columns = [\"year\", \"male\", \"female\"]\n",
    "by_gender = by_gender.drop(by_gender.index[0])\n",
    "by_gender[\"year\"] = by_gender[\"year\"].map(lambda x: str(x)[6:])\n",
    "by_gender"
   ]
  },
  {
   "cell_type": "code",
   "execution_count": 10,
   "metadata": {},
   "outputs": [],
   "source": [
    "total_stops_by_gender = by_gender"
   ]
  },
  {
   "cell_type": "code",
   "execution_count": 15,
   "metadata": {
    "collapsed": true
   },
   "outputs": [],
   "source": [
    "# Same stuff with grouping by race\n",
    "by_race = stops10.groupby(\"race\").count()\n",
    "by_race = by_race[[\"outcome\"]]\n",
    "by_race.columns = [\"stops_2010\"]\n",
    "\n",
    "by_race11 = stops11.groupby(\"race\").count()\n",
    "by_race11 = by_race11[[\"outcome\"]]\n",
    "by_race11.columns = [\"stops_2011\"]\n",
    "\n",
    "by_race12 = stops12.groupby(\"race\").count()\n",
    "by_race12 = by_race12[[\"outcome\"]]\n",
    "by_race12.columns = [\"stops_2012\"]\n",
    "\n",
    "by_race13 = stops13.groupby(\"race\").count()\n",
    "by_race13 = by_race13[[\"outcome\"]]\n",
    "by_race13.columns = [\"stops_2013\"]\n",
    "\n",
    "by_race14 = stops14.groupby(\"race\").count()\n",
    "by_race14 = by_race14[[\"outcome\"]]\n",
    "by_race14.columns = [\"stops_2014\"]\n",
    "\n",
    "by_race15 = stops15.groupby(\"race\").count()\n",
    "by_race15 = by_race15[[\"outcome\"]]\n",
    "by_race15.columns = [\"stops_2015\"]"
   ]
  },
  {
   "cell_type": "code",
   "execution_count": 16,
   "metadata": {},
   "outputs": [
    {
     "data": {
      "text/html": [
       "<div>\n",
       "<style scoped>\n",
       "    .dataframe tbody tr th:only-of-type {\n",
       "        vertical-align: middle;\n",
       "    }\n",
       "\n",
       "    .dataframe tbody tr th {\n",
       "        vertical-align: top;\n",
       "    }\n",
       "\n",
       "    .dataframe thead th {\n",
       "        text-align: right;\n",
       "    }\n",
       "</style>\n",
       "<table border=\"1\" class=\"dataframe\">\n",
       "  <thead>\n",
       "    <tr style=\"text-align: right;\">\n",
       "      <th></th>\n",
       "      <th>race</th>\n",
       "      <th>stops_2010</th>\n",
       "      <th>stops_2011</th>\n",
       "      <th>stops_2012</th>\n",
       "      <th>stops_2013</th>\n",
       "      <th>stops_2014</th>\n",
       "      <th>stops_2015</th>\n",
       "    </tr>\n",
       "  </thead>\n",
       "  <tbody>\n",
       "    <tr>\n",
       "      <th>0</th>\n",
       "      <td>Asian</td>\n",
       "      <td>26292</td>\n",
       "      <td>29033</td>\n",
       "      <td>27646</td>\n",
       "      <td>24802</td>\n",
       "      <td>21308</td>\n",
       "      <td>20492</td>\n",
       "    </tr>\n",
       "    <tr>\n",
       "      <th>1</th>\n",
       "      <td>Black</td>\n",
       "      <td>139213</td>\n",
       "      <td>139834</td>\n",
       "      <td>131818</td>\n",
       "      <td>115261</td>\n",
       "      <td>100306</td>\n",
       "      <td>95064</td>\n",
       "    </tr>\n",
       "    <tr>\n",
       "      <th>2</th>\n",
       "      <td>Hispanic</td>\n",
       "      <td>400432</td>\n",
       "      <td>398764</td>\n",
       "      <td>364754</td>\n",
       "      <td>337820</td>\n",
       "      <td>329426</td>\n",
       "      <td>339409</td>\n",
       "    </tr>\n",
       "    <tr>\n",
       "      <th>3</th>\n",
       "      <td>Other</td>\n",
       "      <td>2815</td>\n",
       "      <td>2888</td>\n",
       "      <td>3356</td>\n",
       "      <td>3708</td>\n",
       "      <td>3344</td>\n",
       "      <td>5292</td>\n",
       "    </tr>\n",
       "    <tr>\n",
       "      <th>4</th>\n",
       "      <td>White</td>\n",
       "      <td>881498</td>\n",
       "      <td>883144</td>\n",
       "      <td>844325</td>\n",
       "      <td>735141</td>\n",
       "      <td>597789</td>\n",
       "      <td>521032</td>\n",
       "    </tr>\n",
       "  </tbody>\n",
       "</table>\n",
       "</div>"
      ],
      "text/plain": [
       "       race  stops_2010  stops_2011  stops_2012  stops_2013  stops_2014  \\\n",
       "0     Asian       26292       29033       27646       24802       21308   \n",
       "1     Black      139213      139834      131818      115261      100306   \n",
       "2  Hispanic      400432      398764      364754      337820      329426   \n",
       "3     Other        2815        2888        3356        3708        3344   \n",
       "4     White      881498      883144      844325      735141      597789   \n",
       "\n",
       "   stops_2015  \n",
       "0       20492  \n",
       "1       95064  \n",
       "2      339409  \n",
       "3        5292  \n",
       "4      521032  "
      ]
     },
     "execution_count": 16,
     "metadata": {},
     "output_type": "execute_result"
    }
   ],
   "source": [
    "# Joining dataframes together\n",
    "by_race[\"stops_2011\"] = by_race11[\"stops_2011\"]\n",
    "by_race[\"stops_2012\"] = by_race12[\"stops_2012\"]\n",
    "by_race[\"stops_2013\"] = by_race13[\"stops_2013\"]\n",
    "by_race[\"stops_2014\"] = by_race14[\"stops_2014\"]\n",
    "by_race[\"stops_2015\"] = by_race15[\"stops_2015\"]\n",
    "\n",
    "# Reset index and rename for clarity\n",
    "by_race.reset_index(inplace=True)\n",
    "by_race.head()"
   ]
  },
  {
   "cell_type": "code",
   "execution_count": 17,
   "metadata": {},
   "outputs": [
    {
     "data": {
      "text/html": [
       "<div>\n",
       "<style scoped>\n",
       "    .dataframe tbody tr th:only-of-type {\n",
       "        vertical-align: middle;\n",
       "    }\n",
       "\n",
       "    .dataframe tbody tr th {\n",
       "        vertical-align: top;\n",
       "    }\n",
       "\n",
       "    .dataframe thead th {\n",
       "        text-align: right;\n",
       "    }\n",
       "</style>\n",
       "<table border=\"1\" class=\"dataframe\">\n",
       "  <thead>\n",
       "    <tr style=\"text-align: right;\">\n",
       "      <th></th>\n",
       "      <th>year</th>\n",
       "      <th>asian</th>\n",
       "      <th>black</th>\n",
       "      <th>hispanic</th>\n",
       "      <th>other</th>\n",
       "      <th>white</th>\n",
       "    </tr>\n",
       "  </thead>\n",
       "  <tbody>\n",
       "    <tr>\n",
       "      <th>1</th>\n",
       "      <td>2010</td>\n",
       "      <td>26292</td>\n",
       "      <td>139213</td>\n",
       "      <td>400432</td>\n",
       "      <td>2815</td>\n",
       "      <td>881498</td>\n",
       "    </tr>\n",
       "    <tr>\n",
       "      <th>2</th>\n",
       "      <td>2011</td>\n",
       "      <td>29033</td>\n",
       "      <td>139834</td>\n",
       "      <td>398764</td>\n",
       "      <td>2888</td>\n",
       "      <td>883144</td>\n",
       "    </tr>\n",
       "    <tr>\n",
       "      <th>3</th>\n",
       "      <td>2012</td>\n",
       "      <td>27646</td>\n",
       "      <td>131818</td>\n",
       "      <td>364754</td>\n",
       "      <td>3356</td>\n",
       "      <td>844325</td>\n",
       "    </tr>\n",
       "    <tr>\n",
       "      <th>4</th>\n",
       "      <td>2013</td>\n",
       "      <td>24802</td>\n",
       "      <td>115261</td>\n",
       "      <td>337820</td>\n",
       "      <td>3708</td>\n",
       "      <td>735141</td>\n",
       "    </tr>\n",
       "    <tr>\n",
       "      <th>5</th>\n",
       "      <td>2014</td>\n",
       "      <td>21308</td>\n",
       "      <td>100306</td>\n",
       "      <td>329426</td>\n",
       "      <td>3344</td>\n",
       "      <td>597789</td>\n",
       "    </tr>\n",
       "    <tr>\n",
       "      <th>6</th>\n",
       "      <td>2015</td>\n",
       "      <td>20492</td>\n",
       "      <td>95064</td>\n",
       "      <td>339409</td>\n",
       "      <td>5292</td>\n",
       "      <td>521032</td>\n",
       "    </tr>\n",
       "  </tbody>\n",
       "</table>\n",
       "</div>"
      ],
      "text/plain": [
       "   year  asian   black hispanic other   white\n",
       "1  2010  26292  139213   400432  2815  881498\n",
       "2  2011  29033  139834   398764  2888  883144\n",
       "3  2012  27646  131818   364754  3356  844325\n",
       "4  2013  24802  115261   337820  3708  735141\n",
       "5  2014  21308  100306   329426  3344  597789\n",
       "6  2015  20492   95064   339409  5292  521032"
      ]
     },
     "execution_count": 17,
     "metadata": {},
     "output_type": "execute_result"
    }
   ],
   "source": [
    "by_race = by_race.transpose()\n",
    "by_race.reset_index(inplace=True)\n",
    "by_race.columns = [\"year\", \"asian\", \"black\", \"hispanic\", \"other\", \"white\"]\n",
    "by_race = by_race.drop(by_race.index[0])\n",
    "by_race[\"year\"] = by_race[\"year\"].map(lambda x: str(x)[6:])\n",
    "by_race"
   ]
  },
  {
   "cell_type": "code",
   "execution_count": 18,
   "metadata": {
    "collapsed": true
   },
   "outputs": [],
   "source": [
    "total_stops_by_race = by_race"
   ]
  },
  {
   "cell_type": "code",
   "execution_count": 19,
   "metadata": {
    "collapsed": true
   },
   "outputs": [],
   "source": [
    "# Same stuff with grouping by county\n",
    "by_county = stops10.groupby(\"county\").count()\n",
    "by_county = by_county[[\"outcome\"]]\n",
    "by_county.columns = [\"stops_2010\"]\n",
    "\n",
    "by_county11 = stops11.groupby(\"county\").count()\n",
    "by_county11 = by_county11[[\"outcome\"]]\n",
    "by_county11.columns = [\"stops_2011\"]\n",
    "\n",
    "by_county12 = stops12.groupby(\"county\").count()\n",
    "by_county12 = by_county12[[\"outcome\"]]\n",
    "by_county12.columns = [\"stops_2012\"]\n",
    "\n",
    "by_county13 = stops13.groupby(\"county\").count()\n",
    "by_county13 = by_county13[[\"outcome\"]]\n",
    "by_county13.columns = [\"stops_2013\"]\n",
    "\n",
    "by_county14 = stops14.groupby(\"county\").count()\n",
    "by_county14 = by_county14[[\"outcome\"]]\n",
    "by_county14.columns = [\"stops_2014\"]\n",
    "\n",
    "by_county15 = stops15.groupby(\"county\").count()\n",
    "by_county15 = by_county15[[\"outcome\"]]\n",
    "by_county15.columns = [\"stops_2015\"]"
   ]
  },
  {
   "cell_type": "code",
   "execution_count": 20,
   "metadata": {},
   "outputs": [
    {
     "data": {
      "text/html": [
       "<div>\n",
       "<style scoped>\n",
       "    .dataframe tbody tr th:only-of-type {\n",
       "        vertical-align: middle;\n",
       "    }\n",
       "\n",
       "    .dataframe tbody tr th {\n",
       "        vertical-align: top;\n",
       "    }\n",
       "\n",
       "    .dataframe thead th {\n",
       "        text-align: right;\n",
       "    }\n",
       "</style>\n",
       "<table border=\"1\" class=\"dataframe\">\n",
       "  <thead>\n",
       "    <tr style=\"text-align: right;\">\n",
       "      <th></th>\n",
       "      <th>county</th>\n",
       "      <th>stops_2010</th>\n",
       "      <th>stops_2011</th>\n",
       "      <th>stops_2012</th>\n",
       "      <th>stops_2013</th>\n",
       "      <th>stops_2014</th>\n",
       "      <th>stops_2015</th>\n",
       "    </tr>\n",
       "  </thead>\n",
       "  <tbody>\n",
       "    <tr>\n",
       "      <th>0</th>\n",
       "      <td>Anderson County</td>\n",
       "      <td>7049</td>\n",
       "      <td>10922</td>\n",
       "      <td>9404</td>\n",
       "      <td>8731</td>\n",
       "      <td>7250</td>\n",
       "      <td>5513</td>\n",
       "    </tr>\n",
       "    <tr>\n",
       "      <th>1</th>\n",
       "      <td>Andrews County</td>\n",
       "      <td>1899</td>\n",
       "      <td>2305</td>\n",
       "      <td>3309</td>\n",
       "      <td>1424</td>\n",
       "      <td>812</td>\n",
       "      <td>1219</td>\n",
       "    </tr>\n",
       "    <tr>\n",
       "      <th>2</th>\n",
       "      <td>Angelina County</td>\n",
       "      <td>9923</td>\n",
       "      <td>8291</td>\n",
       "      <td>9571</td>\n",
       "      <td>7502</td>\n",
       "      <td>6890</td>\n",
       "      <td>8208</td>\n",
       "    </tr>\n",
       "    <tr>\n",
       "      <th>3</th>\n",
       "      <td>Aransas County</td>\n",
       "      <td>1677</td>\n",
       "      <td>1626</td>\n",
       "      <td>2042</td>\n",
       "      <td>2881</td>\n",
       "      <td>2220</td>\n",
       "      <td>1645</td>\n",
       "    </tr>\n",
       "    <tr>\n",
       "      <th>4</th>\n",
       "      <td>Archer County</td>\n",
       "      <td>5041</td>\n",
       "      <td>5578</td>\n",
       "      <td>4874</td>\n",
       "      <td>4222</td>\n",
       "      <td>2432</td>\n",
       "      <td>2961</td>\n",
       "    </tr>\n",
       "  </tbody>\n",
       "</table>\n",
       "</div>"
      ],
      "text/plain": [
       "            county  stops_2010  stops_2011  stops_2012  stops_2013  \\\n",
       "0  Anderson County        7049       10922        9404        8731   \n",
       "1   Andrews County        1899        2305        3309        1424   \n",
       "2  Angelina County        9923        8291        9571        7502   \n",
       "3   Aransas County        1677        1626        2042        2881   \n",
       "4    Archer County        5041        5578        4874        4222   \n",
       "\n",
       "   stops_2014  stops_2015  \n",
       "0        7250        5513  \n",
       "1         812        1219  \n",
       "2        6890        8208  \n",
       "3        2220        1645  \n",
       "4        2432        2961  "
      ]
     },
     "execution_count": 20,
     "metadata": {},
     "output_type": "execute_result"
    }
   ],
   "source": [
    "# Joining dataframes together\n",
    "by_county[\"stops_2011\"] = by_county11[\"stops_2011\"]\n",
    "by_county[\"stops_2012\"] = by_county12[\"stops_2012\"]\n",
    "by_county[\"stops_2013\"] = by_county13[\"stops_2013\"]\n",
    "by_county[\"stops_2014\"] = by_county14[\"stops_2014\"]\n",
    "by_county[\"stops_2015\"] = by_county15[\"stops_2015\"]\n",
    "\n",
    "# Reset index and rename for clarity\n",
    "by_county.reset_index(inplace=True)\n",
    "by_county.head()"
   ]
  },
  {
   "cell_type": "code",
   "execution_count": 21,
   "metadata": {
    "collapsed": true
   },
   "outputs": [],
   "source": [
    "total_stops_by_county = by_county"
   ]
  },
  {
   "cell_type": "code",
   "execution_count": 22,
   "metadata": {
    "collapsed": true
   },
   "outputs": [],
   "source": [
    "# Import SQLAlchemy dependencies\n",
    "import sqlalchemy\n",
    "from sqlalchemy import create_engine, MetaData, inspect\n",
    "from sqlalchemy.ext.declarative import declarative_base\n",
    "from sqlalchemy import Column, Integer, String, Numeric, Text, Float, ForeignKey\n",
    "from sqlalchemy.orm import sessionmaker, relationship"
   ]
  },
  {
   "cell_type": "code",
   "execution_count": 23,
   "metadata": {
    "collapsed": true
   },
   "outputs": [],
   "source": [
    "engine = create_engine(\"sqlite:///speeding.sqlite\")"
   ]
  },
  {
   "cell_type": "code",
   "execution_count": 24,
   "metadata": {
    "collapsed": true
   },
   "outputs": [],
   "source": [
    "Base = declarative_base()"
   ]
  },
  {
   "cell_type": "code",
   "execution_count": 25,
   "metadata": {
    "collapsed": true
   },
   "outputs": [],
   "source": [
    "class Date_stops(Base):\n",
    "    \n",
    "    __tablename__ = 'date_stops'\n",
    "    \n",
    "    id = Column(Integer, primary_key=True, autoincrement=True)\n",
    "    date = Column(Text)\n",
    "    stops_2010 = Column(Integer)\n",
    "    stops_2011 = Column(Integer)\n",
    "    stops_2012 = Column(Integer)\n",
    "    stops_2013 = Column(Integer)\n",
    "    stops_2014 = Column(Integer)\n",
    "    stops_2015 = Column(Integer)\n",
    "    \n",
    "    def __repr__(self):\n",
    "        return f\"{self.date}: 2010 - {self.stops_2010}\"\n",
    "    \n",
    "class Gender_stops(Base):\n",
    "    \n",
    "    __tablename__ = 'gender_stops'\n",
    "    \n",
    "    id = Column(Integer, primary_key=True, autoincrement=True)\n",
    "    year = Column(Text)\n",
    "    male = Column(Integer)\n",
    "    female = Column(Integer)\n",
    "    \n",
    "    def __repr__(self):\n",
    "        return f\"{self.gender}: 2010 - {self.stops_2010}\"\n",
    "\n",
    "class Race_stops(Base):\n",
    "    \n",
    "    __tablename__ = 'race_stops'\n",
    "    \n",
    "    id = Column(Integer, primary_key=True, autoincrement=True)\n",
    "    year = Column(Text)\n",
    "    asian = Column(Integer)\n",
    "    black = Column(Integer)\n",
    "    hispanic = Column(Integer)\n",
    "    other = Column(Integer)\n",
    "    white = Column(Integer)\n",
    "    \n",
    "    def __repr__(self):\n",
    "        return f\"{self.race}: 2010 - {self.stops_2010}\"\n",
    "\n",
    "class County_stops(Base):\n",
    "    \n",
    "    __tablename__ = 'county_stops'\n",
    "    \n",
    "    id = Column(Integer, primary_key=True, autoincrement=True)\n",
    "    county = Column(Text)\n",
    "    stops_2010 = Column(Integer)\n",
    "    stops_2011 = Column(Integer)\n",
    "    stops_2012 = Column(Integer)\n",
    "    stops_2013 = Column(Integer)\n",
    "    stops_2014 = Column(Integer)\n",
    "    stops_2015 = Column(Integer)\n",
    "    \n",
    "    def __repr__(self):\n",
    "        return f\"{self.county}: 2010 - {self.stops_2010}\""
   ]
  },
  {
   "cell_type": "code",
   "execution_count": 26,
   "metadata": {
    "collapsed": true
   },
   "outputs": [],
   "source": [
    "Base.metadata.create_all(engine)"
   ]
  },
  {
   "cell_type": "code",
   "execution_count": 27,
   "metadata": {},
   "outputs": [
    {
     "data": {
      "text/plain": [
       "['county_stops',\n",
       " 'crashes',\n",
       " 'date_stops',\n",
       " 'demographics',\n",
       " 'gender_stops',\n",
       " 'race_stops']"
      ]
     },
     "execution_count": 27,
     "metadata": {},
     "output_type": "execute_result"
    }
   ],
   "source": [
    "engine.table_names()"
   ]
  },
  {
   "cell_type": "code",
   "execution_count": 28,
   "metadata": {},
   "outputs": [
    {
     "data": {
      "text/plain": [
       "[{'autoincrement': 'auto',\n",
       "  'default': None,\n",
       "  'name': 'id',\n",
       "  'nullable': False,\n",
       "  'primary_key': 1,\n",
       "  'type': INTEGER()},\n",
       " {'autoincrement': 'auto',\n",
       "  'default': None,\n",
       "  'name': 'year',\n",
       "  'nullable': True,\n",
       "  'primary_key': 0,\n",
       "  'type': TEXT()},\n",
       " {'autoincrement': 'auto',\n",
       "  'default': None,\n",
       "  'name': 'asian',\n",
       "  'nullable': True,\n",
       "  'primary_key': 0,\n",
       "  'type': INTEGER()},\n",
       " {'autoincrement': 'auto',\n",
       "  'default': None,\n",
       "  'name': 'black',\n",
       "  'nullable': True,\n",
       "  'primary_key': 0,\n",
       "  'type': INTEGER()},\n",
       " {'autoincrement': 'auto',\n",
       "  'default': None,\n",
       "  'name': 'hispanic',\n",
       "  'nullable': True,\n",
       "  'primary_key': 0,\n",
       "  'type': INTEGER()},\n",
       " {'autoincrement': 'auto',\n",
       "  'default': None,\n",
       "  'name': 'other',\n",
       "  'nullable': True,\n",
       "  'primary_key': 0,\n",
       "  'type': INTEGER()},\n",
       " {'autoincrement': 'auto',\n",
       "  'default': None,\n",
       "  'name': 'white',\n",
       "  'nullable': True,\n",
       "  'primary_key': 0,\n",
       "  'type': INTEGER()}]"
      ]
     },
     "execution_count": 28,
     "metadata": {},
     "output_type": "execute_result"
    }
   ],
   "source": [
    "inspector = inspect(engine)\n",
    "inspector.get_columns('race_stops')"
   ]
  },
  {
   "cell_type": "code",
   "execution_count": 29,
   "metadata": {},
   "outputs": [],
   "source": [
    "# connect to the database\n",
    "conn = engine.connect()\n",
    "\n",
    "# Orient='records' creates a list of data to write\n",
    "date_data = total_stops_by_year.to_dict(orient='records')\n",
    "gender_data = total_stops_by_gender.to_dict(orient='records')\n",
    "race_data = total_stops_by_race.to_dict(orient='records')\n",
    "county_data = total_stops_by_county.to_dict(orient='records')\n",
    "\n",
    "# Insert the dataframe into the database in one bulk insert\n",
    "#conn.execute(Date_stops.__table__.delete())\n",
    "conn.execute(Date_stops.__table__.insert(), date_data)\n",
    "#conn.execute(Gender_stops.__table__.delete())\n",
    "conn.execute(Gender_stops.__table__.insert(), gender_data)\n",
    "#conn.execute(Race_stops.__table__.delete())\n",
    "conn.execute(Race_stops.__table__.insert(), race_data)\n",
    "#conn.execute(County_stops.__table__.delete())\n",
    "conn.execute(County_stops.__table__.insert(), county_data)\n",
    "\n",
    "conn.close()"
   ]
  },
  {
   "cell_type": "code",
   "execution_count": 30,
   "metadata": {},
   "outputs": [
    {
     "data": {
      "text/plain": [
       "[(1, '01-01', 6869, 7815, 5768, 4389, 4713, 1212),\n",
       " (2, '01-02', 11000, 11390, 3350, 2674, 1956, 857),\n",
       " (3, '01-03', 9707, 3336, 3059, 3378, 2709, 2694),\n",
       " (4, '01-04', 2820, 3157, 3421, 2905, 3572, 3265),\n",
       " (5, '01-05', 3604, 3884, 3530, 3985, 2408, 2909)]"
      ]
     },
     "execution_count": 30,
     "metadata": {},
     "output_type": "execute_result"
    }
   ],
   "source": [
    "engine.execute(\"SELECT * FROM date_stops LIMIT 5\").fetchall()"
   ]
  },
  {
   "cell_type": "code",
   "execution_count": 31,
   "metadata": {},
   "outputs": [
    {
     "data": {
      "text/plain": [
       "[(1, '2010', 509012, 988067),\n",
       " (2, '2011', 516934, 984597),\n",
       " (3, '2012', 491313, 921544),\n",
       " (4, '2013', 437128, 815750),\n",
       " (5, '2014', 378355, 709916)]"
      ]
     },
     "execution_count": 31,
     "metadata": {},
     "output_type": "execute_result"
    }
   ],
   "source": [
    "engine.execute(\"SELECT * FROM gender_stops LIMIT 5\").fetchall()"
   ]
  },
  {
   "cell_type": "code",
   "execution_count": 32,
   "metadata": {},
   "outputs": [
    {
     "data": {
      "text/plain": [
       "[(1, '2010', 26292, 139213, 400432, 2815, 881498),\n",
       " (2, '2011', 29033, 139834, 398764, 2888, 883144),\n",
       " (3, '2012', 27646, 131818, 364754, 3356, 844325),\n",
       " (4, '2013', 24802, 115261, 337820, 3708, 735141),\n",
       " (5, '2014', 21308, 100306, 329426, 3344, 597789)]"
      ]
     },
     "execution_count": 32,
     "metadata": {},
     "output_type": "execute_result"
    }
   ],
   "source": [
    "engine.execute(\"SELECT * FROM race_stops LIMIT 5\").fetchall()"
   ]
  },
  {
   "cell_type": "code",
   "execution_count": 33,
   "metadata": {},
   "outputs": [
    {
     "data": {
      "text/plain": [
       "[(1, 'Anderson County', 7049, 10922, 9404, 8731, 7250, 5513),\n",
       " (2, 'Andrews County', 1899, 2305, 3309, 1424, 812, 1219),\n",
       " (3, 'Angelina County', 9923, 8291, 9571, 7502, 6890, 8208),\n",
       " (4, 'Aransas County', 1677, 1626, 2042, 2881, 2220, 1645),\n",
       " (5, 'Archer County', 5041, 5578, 4874, 4222, 2432, 2961)]"
      ]
     },
     "execution_count": 33,
     "metadata": {},
     "output_type": "execute_result"
    }
   ],
   "source": [
    "engine.execute(\"SELECT * FROM county_stops LIMIT 5\").fetchall()"
   ]
  },
  {
   "cell_type": "code",
   "execution_count": null,
   "metadata": {
    "collapsed": true
   },
   "outputs": [],
   "source": []
  }
 ],
 "metadata": {
  "kernelspec": {
   "display_name": "Python 3",
   "language": "python",
   "name": "python3"
  },
  "language_info": {
   "codemirror_mode": {
    "name": "ipython",
    "version": 3
   },
   "file_extension": ".py",
   "mimetype": "text/x-python",
   "name": "python",
   "nbconvert_exporter": "python",
   "pygments_lexer": "ipython3",
   "version": "3.6.3"
  }
 },
 "nbformat": 4,
 "nbformat_minor": 2
}
